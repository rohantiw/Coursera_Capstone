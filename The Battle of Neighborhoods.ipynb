{
    "cells": [
        {
            "cell_type": "markdown",
            "metadata": {
                "collapsed": true
            },
            "source": "# Project Title: Exploring Toronto neighborhood: Where to open an Indian Restaurant?\n***"
        },
        {
            "cell_type": "markdown",
            "metadata": {},
            "source": "## Problem Statement:\n### The excercise here explains how to choose a preferable location in Toronto for opening an Indian Cuisine Restaurant in order to maximise the profit for the owner."
        },
        {
            "cell_type": "markdown",
            "metadata": {},
            "source": "## Project Background: \n\nToronto being the financial capital of Canada and capital of Ontario province is one of the densely populated cities in the world. Its diversity is reflected in Toronto\u2019s ethnic neighborhoods such as Chinatown, Corso Italia, Greektown, Kensington Market, Koreatown, Little India, Little Italy, Little Jamaica, Little Portugal etc. It is one of the most immigrant-friendly cities in North America with more than half of the entire Indian Canadian population residing in Toronto that makes it one of the best places to start an Indian restaurant.\n\nThe purpose of this whole exercise is for submission of final capstone project for **\"IBM Data Science\"** course on coursera as well as to showcase my data science skills in the real world application."
        },
        {
            "cell_type": "markdown",
            "metadata": {},
            "source": "## Data and Resources to be used\n1. List of postal codes of Canada Wiki: https://en.wikipedia.org/wiki/List_of_postal_codes_of_Canada:_M for an access to neighborhood data of Toronto region.\n2. Geographical coordinates of the neighborhoods: http://cocl.us/Geospatial_data for getting the longitude and latitude data for the negihborhoods.\n3. Ethnicity wise geographical distribution of Toronto neighborhoods: https://en.m.wikipedia.org/wiki/Demographics_of_Toronto#Ethnic_diversity, This data will help recognize the neighborhoods of toronto with clusters of Indian origin population.\n4. Foursquare database: https://Foursquare.com to be used in order to explore the desired neighborhood data for various restaurants details and access the Json files. This data shall be utilized to map the indian restaurants in various locations."
        },
        {
            "cell_type": "markdown",
            "metadata": {},
            "source": "## Problem solving strategy"
        },
        {
            "cell_type": "markdown",
            "metadata": {},
            "source": "The idea is to find a location in Toronto region where the number Indian Restaurants is relatively low to cater the requirement of Indian origin people. If we select such a location for opening this restaurant it will ensure a higher footfall and will end up earning higher profit for the owners.\\\n### Step-wise approach of problem solving:"
        },
        {
            "cell_type": "markdown",
            "metadata": {},
            "source": "**Step-1:** Web scraping of the neighborhood data from postal codes of Canada Wiki-link. Clean the data by removing the missing values and store the data in a python Dataframe consisting of three columns namely: PostalCode, Borough, and Neighborhood"
        },
        {
            "cell_type": "markdown",
            "metadata": {},
            "source": "**Step-2:** Web scraping of the long-lat data from the geospatial data wikilink and append the geographical coordinates in the above dataframe to get a new dataframe for further analysis."
        },
        {
            "cell_type": "markdown",
            "metadata": {},
            "source": "**Step-3:** Scraping the distribution of population from Wiki link. This data will help identify the neighborhood of Toronto which are denser in Indian origin population, which is our first deciding factor of locating our Indian Restaurant."
        },
        {
            "cell_type": "markdown",
            "metadata": {},
            "source": "**Step-4:** Getting location data using Foursquare API. It will be used to retrieve information of the places to eat in Toronto neighborhoods. The API will return a JSON file which will be further converted into a Python Dataframe."
        },
        {
            "cell_type": "markdown",
            "metadata": {},
            "source": "**Step-5: Exploratory Data Analysis**"
        },
        {
            "cell_type": "markdown",
            "metadata": {},
            "source": "- Plot the prepared location data on the map for visualization purpose.\n- Plor and find the relationship between Neighborhood and Indian Restaurants: check for location with already a higher number of Indian Restaurants.\n- Find relationship between neighborhood and Indian origin population and identify the locations with relatively dense indian population spreads.\n- Then we will try to find out relationship between Indian Origin Population and Indian Restaurants.\n"
        },
        {
            "cell_type": "markdown",
            "metadata": {},
            "source": "**Step-6:** Lastly we will perform **Predictive Modeling** and come up with our final solution or \"the most preferable location recommendation for opening of an Indian Restaurant\""
        },
        {
            "cell_type": "code",
            "execution_count": null,
            "metadata": {},
            "outputs": [],
            "source": ""
        }
    ],
    "metadata": {
        "kernelspec": {
            "display_name": "Python 3.6",
            "language": "python",
            "name": "python3"
        },
        "language_info": {
            "codemirror_mode": {
                "name": "ipython",
                "version": 3
            },
            "file_extension": ".py",
            "mimetype": "text/x-python",
            "name": "python",
            "nbconvert_exporter": "python",
            "pygments_lexer": "ipython3",
            "version": "3.6.9"
        }
    },
    "nbformat": 4,
    "nbformat_minor": 1
}